{
 "cells": [
  {
   "cell_type": "markdown",
   "metadata": {},
   "source": [
    "# Tarea Python\n",
    "## Nombre: Cesar Ramos\n",
    "## 02 de mayo 2020"
   ]
  },
  {
   "cell_type": "code",
   "execution_count": 109,
   "metadata": {},
   "outputs": [
    {
     "name": "stdout",
     "output_type": "stream",
     "text": [
      "Tipo de gasto: Sueldos y salarios \n",
      "Gasto: 2000 Bs. \n",
      "Tipo de ingreso: Impuestos \n",
      "Ingreso: 2100 Bs. \n",
      "\n",
      "Saldo presupuestario: 100 Bs.\n",
      "Superávit 100\n",
      "None\n"
     ]
    }
   ],
   "source": [
    "class Presupuesto:\n",
    "    tipo_gasto = \"\"\n",
    "    tipo_ingreso = \"\"\n",
    "    ingreso = 0\n",
    "    gasto = 0\n",
    "    #saldo = 0\n",
    "    \n",
    "    def __init__(self, tipo_gasto,  gasto, tipo_ingreso, ingreso):\n",
    "        self.tipo_gasto = tipo_gasto\n",
    "        self.gasto = gasto\n",
    "        self.tipo_ingreso = tipo_ingreso\n",
    "        self.ingreso = ingreso\n",
    "    \n",
    "    def __str__(self):\n",
    "        return \"Tipo de gasto: {} \\nGasto: {} Bs. \\n\" \\\n",
    "               \"Tipo de ingreso: {} \\nIngreso: {} Bs. \\n\" \\\n",
    "               \"\".format(self.tipo_gasto, self.gasto, self.tipo_ingreso, self.ingreso)\n",
    "    \n",
    "    def saldo(self):\n",
    "        saldo_presupuestario = self.ingreso - self.gasto\n",
    "        return saldo_presupuestario\n",
    "        \n",
    "    def donacion(self):\n",
    "        saldo = self.ingreso - self.gasto\n",
    "        if saldo < 0:\n",
    "            #return saldo\n",
    "            print(\"Deuda\", saldo)\n",
    "        else:\n",
    "            #return self.saldo\n",
    "            print(\"Superávit\", saldo)\n",
    "            \n",
    "    \n",
    "pres = Presupuesto(\"Sueldos y salarios\", 2000, \"Impuestos\", 2100)\n",
    "print(pres)\n",
    "print(\"Saldo presupuestario:\",int(pres.saldo()), \"Bs.\")\n",
    "print(pres.donacion())"
   ]
  },
  {
   "cell_type": "code",
   "execution_count": null,
   "metadata": {},
   "outputs": [],
   "source": [
    "#Definición de la Clase:\n",
    "class Biblioteca:\n",
    "\n",
    "    def __init__(self, area, editorial, year, edition):\n",
    "        self.area = area\n",
    "        self.editorial = editorial\n",
    "        self.year = year\n",
    "        self.edition = edition\n",
    "\n",
    "    def __str__(self):\n",
    "        return \"Title : {} \\n Editorial : {} \\nYear : {} \\n Edition: {}\".format(self.area, self.editorial, self.year, self.edition)\n",
    "        \n",
    "\n",
    "    def nueva_edicion(self):\n",
    "        edition = self.edition + 1\n",
    "        return edition\n",
    "    \n",
    "    def año_actualizado(self):\n",
    "        newyear = self.year + 3\n",
    "        return newyear\n",
    "        \n",
    "Sel_lib = Biblioteca(\"Python Pandas\", \"Springer\", 2017, 2)\n",
    "print(\"===== Biblioteca =====\")\n",
    "print(Sel_lib)\n",
    "print(\"Updated edition:\", Sel_lib.nueva_edicion())\n",
    "print(\"New publication:\", Sel_lib.año_actualizado())\n",
    "print(\"======= ====== =======\")"
   ]
  }
 ],
 "metadata": {
  "kernelspec": {
   "display_name": "Python 3",
   "language": "python",
   "name": "python3"
  },
  "language_info": {
   "codemirror_mode": {
    "name": "ipython",
    "version": 3
   },
   "file_extension": ".py",
   "mimetype": "text/x-python",
   "name": "python",
   "nbconvert_exporter": "python",
   "pygments_lexer": "ipython3",
   "version": "3.7.6"
  }
 },
 "nbformat": 4,
 "nbformat_minor": 4
}
